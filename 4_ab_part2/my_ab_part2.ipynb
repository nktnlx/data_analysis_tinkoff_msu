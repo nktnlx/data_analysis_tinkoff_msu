{
 "cells": [
  {
   "cell_type": "markdown",
   "metadata": {},
   "source": [
    "### Задания"
   ]
  },
  {
   "cell_type": "markdown",
   "metadata": {},
   "source": [
    "#### Задание 1\n",
    "У вас есть сайт, на котором посетители могут совершать покупки.\n",
    "\n",
    "Обычная конверсия в покупку на потоке клиентов составляет 11%. Начиная с февраля конверсия уменьшилась до 9%, причем вывод сделан по 1400 наблюдениям.\n",
    "\n",
    "**Найдите p-value, характеризующее статзначимость гипотезы о том, что с февраля конверсия действительно упала.**\n",
    "\n",
    "(Подсказка: тут нет никакого А-Б теста, мы просто сравниваем новую ситуацию со старой)"
   ]
  },
  {
   "cell_type": "markdown",
   "metadata": {},
   "source": [
    "#### Решение"
   ]
  },
  {
   "cell_type": "code",
   "execution_count": 2,
   "metadata": {},
   "outputs": [
    {
     "name": "stdout",
     "output_type": "stream",
     "text": [
      "zscore = -1.7638, pvalue = 0.0389\n"
     ]
    }
   ],
   "source": [
    "from statsmodels.stats.proportion import proportions_ztest\n",
    "import numpy as np\n",
    "\n",
    "c = 0.11  # Обычная конверсия в покупку на потоке\n",
    "c_f = 0.09  # конверсия в покупку начиная с февраля\n",
    "n = 1400  # количество наблюдений\n",
    "\n",
    "conversions = np.array([c_f * n, c * n])\n",
    "clicks = np.array([n, n])\n",
    "\n",
    "zscore, pvalue = proportions_ztest(conversions, clicks, alternative = 'smaller')\n",
    "print('zscore = {:.4f}, pvalue = {:.4f}'.format(zscore, pvalue))"
   ]
  },
  {
   "cell_type": "code",
   "execution_count": null,
   "metadata": {},
   "outputs": [],
   "source": []
  },
  {
   "cell_type": "markdown",
   "metadata": {},
   "source": [
    "#### Задание 2\n",
    "У вас тот же сайт, на котором вы решили провести АБ-тест.\n",
    "\n",
    "Взяли выборку, поделили примерно пополам. На тестовой группе предлагаем клиенту скидку в 20%. Гипотеза заключается в том, что скидка увеличивает конверсию в продажу.\n",
    "\n",
    "Результаты получились следующими:\n",
    "\n",
    "Контроль: из 16500 наблюдений 1599 покупок\n",
    "\n",
    "Тест: из 15903 наблюдений 1580 покупок\n",
    "\n",
    "Мы уверены, что конверсия на тесте должна быть не хуже контроля и ожидаем уровень значимости alpha=0.05\n",
    "\n",
    "**Статзначимый ли результат теста?**"
   ]
  },
  {
   "cell_type": "markdown",
   "metadata": {},
   "source": [
    "#### Решение"
   ]
  },
  {
   "cell_type": "code",
   "execution_count": 25,
   "metadata": {},
   "outputs": [
    {
     "name": "stdout",
     "output_type": "stream",
     "text": [
      "zscore = 0.7391, pvalue = 0.2299\n",
      "Не удалось отвергнуть нулевую гипотезу о равенстве результатов и получить статзначимый результат.\n"
     ]
    }
   ],
   "source": [
    "from statsmodels.stats.proportion import proportions_ztest\n",
    "import numpy as np\n",
    "\n",
    "alpha = 0.05  # уровень значимости\n",
    "\n",
    "test_orders = 1580  # тест количество покупок\n",
    "control_orders = 1599  # контроль количество покупок\n",
    "test_n = 15903 # тест количество наблюдений\n",
    "control_n = 16500  # контроль количество наблюдений\n",
    "\n",
    "conversions = np.array([test_orders, control_orders])\n",
    "clicks = np.array([test_n, control_n])\n",
    "\n",
    "zscore, pvalue = proportions_ztest(conversions, clicks, alternative = 'larger')\n",
    "print('zscore = {:.4f}, pvalue = {:.4f}'.format(zscore, pvalue))\n",
    "\n",
    "if pvalue <= 0.05:\n",
    "    print('Результат теста cтатзначимый')\n",
    "else:\n",
    "    print('Не удалось отвергнуть нулевую гипотезу о равенстве результатов и получить статзначимый результат.')"
   ]
  },
  {
   "cell_type": "code",
   "execution_count": null,
   "metadata": {},
   "outputs": [],
   "source": []
  },
  {
   "cell_type": "markdown",
   "metadata": {},
   "source": [
    "#### Задание 3\n",
    "Тот же сайт, но теперь тестируем следующее:\n",
    "* в группе B (тест) предлагаем покупателям дополнительно добавить в корзину еще один товар по скидке\n",
    "* контрольной группе А ничего не предлагаем.\n",
    "\n",
    "Результаты теста лежат в приложенном файле. В первой колонке флаг тестовой группы, во второй - сумма всех покупок посетителя.\n",
    "\n",
    "**Требуется определить, есть ли статзначимое различие в распределениях на тесте и контроле с уровнем значимости alpha=0.05**"
   ]
  },
  {
   "cell_type": "markdown",
   "metadata": {},
   "source": [
    "#### Решение"
   ]
  },
  {
   "cell_type": "code",
   "execution_count": 102,
   "metadata": {},
   "outputs": [],
   "source": [
    "# импорт библиотек\n",
    "import pandas as pd\n",
    "from scipy import stats as st"
   ]
  },
  {
   "cell_type": "code",
   "execution_count": 103,
   "metadata": {},
   "outputs": [],
   "source": [
    "# чтение данных из файла\n",
    "df = pd.read_excel('task4_data.xlsx', header=0)"
   ]
  },
  {
   "cell_type": "code",
   "execution_count": 104,
   "metadata": {},
   "outputs": [],
   "source": [
    "# переименование колонок для удобства дальнейшей работы\n",
    "df.rename(columns=({'Группа': 'group', 'Значение': 'val'}), inplace=True)"
   ]
  },
  {
   "cell_type": "code",
   "execution_count": 105,
   "metadata": {},
   "outputs": [
    {
     "data": {
      "image/png": "[encoded data removed]",
      "text/plain": [
       "<Figure size 432x288 with 1 Axes>"
      ]
     },
     "metadata": {
      "needs_background": "light"
     },
     "output_type": "display_data"
    }
   ],
   "source": [
    "# посмотрим графически на распределение значений\n",
    "df[df['group'] == 'А'].plot(kind='hist', bins=5);"
   ]
  },
  {
   "cell_type": "code",
   "execution_count": 106,
   "metadata": {},
   "outputs": [
    {
     "name": "stdout",
     "output_type": "stream",
     "text": [
      "Распределение не является нормальным. Используем непараметрический аналог U-критерий Манна-Уитни.\n"
     ]
    }
   ],
   "source": [
    "# проверим с помощью теста Шапиро-Уилка нормальность распределения выборки.\n",
    "res = st.shapiro(df[df['group'] == 'А'].val)\n",
    "\n",
    "if res[1] > 0.05:\n",
    "    print('Распределение нормальное.')\n",
    "else:\n",
    "    print('Распределение не является нормальным. Используем непараметрический аналог U-критерий Манна-Уитни.')"
   ]
  },
  {
   "cell_type": "code",
   "execution_count": 108,
   "metadata": {},
   "outputs": [
    {
     "name": "stdout",
     "output_type": "stream",
     "text": [
      "Статзначимого различия достичь не удалось.\n",
      "Предложение добавить в корзину еще один товар по скидке значимо не увеличивает средний чек.\n"
     ]
    }
   ],
   "source": [
    "alpha = 0.05  # уровень значимости\n",
    "\n",
    "# сравниваем выборки с помощью U-критерия Манна-Уитни\n",
    "stat, pval = st.mannwhitneyu(df[df['group'] == 'А'].val, df[df['group'] == 'B'].val, alternative='two-sided')\n",
    "\n",
    "# результат (вывод)\n",
    "if pval <= 0.05:\n",
    "    print('Удалось достичь статзначимого различия.\\nПредложение добавить в корзину еще один товар по скидке увеличивает средний чек.')\n",
    "else:\n",
    "    print('Статзначимого различия достичь не удалось.\\nПредложение добавить в корзину еще один товар по скидке значимо не увеличивает средний чек.')"
   ]
  }
 ],
 "metadata": {
  "kernelspec": {
   "display_name": "Python 3",
   "language": "python",
   "name": "python3"
  },
  "language_info": {
   "codemirror_mode": {
    "name": "ipython",
    "version": 3
   },
   "file_extension": ".py",
   "mimetype": "text/x-python",
   "name": "python",
   "nbconvert_exporter": "python",
   "pygments_lexer": "ipython3",
   "version": "3.7.6"
  }
 },
 "nbformat": 4,
 "nbformat_minor": 4
}
