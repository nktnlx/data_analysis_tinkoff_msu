{
 "cells": [
  {
   "cell_type": "markdown",
   "metadata": {},
   "source": [
    "### Задания"
   ]
  },
  {
   "cell_type": "markdown",
   "metadata": {},
   "source": [
    "#### Задание 1\n",
    "В файле test_1 лежит результат теста. (target - какая-то целевая метрика)\n",
    "[test_1.csv](https://edu.tinkoff.ru/media/edu-files-ext-100/00a4f74e-26a3-4785-9d06-f1d3bed3e5e3.csv)\n",
    "\n",
    "Изучите результаты теста и сделайте вывод (проверяем гипотезу о равенстве средних). В качестве решения - ноутбук, в котором построено распределение параметра target в группах и проверены нужные критерии."
   ]
  },
  {
   "cell_type": "markdown",
   "metadata": {},
   "source": [
    "#### Решение"
   ]
  },
  {
   "cell_type": "code",
   "execution_count": 13,
   "metadata": {},
   "outputs": [],
   "source": [
    "# импорт библиотек\n",
    "import pandas as pd\n",
    "import matplotlib.pyplot as plt\n",
    "from scipy import stats as st\n",
    "%matplotlib inline"
   ]
  },
  {
   "cell_type": "code",
   "execution_count": 14,
   "metadata": {},
   "outputs": [
    {
     "data": {
      "text/html": [
       "<div>\n",
       "<style scoped>\n",
       "    .dataframe tbody tr th:only-of-type {\n",
       "        vertical-align: middle;\n",
       "    }\n",
       "\n",
       "    .dataframe tbody tr th {\n",
       "        vertical-align: top;\n",
       "    }\n",
       "\n",
       "    .dataframe thead th {\n",
       "        text-align: right;\n",
       "    }\n",
       "</style>\n",
       "<table border=\"1\" class=\"dataframe\">\n",
       "  <thead>\n",
       "    <tr style=\"text-align: right;\">\n",
       "      <th></th>\n",
       "      <th>group</th>\n",
       "      <th>client_id</th>\n",
       "      <th>target</th>\n",
       "    </tr>\n",
       "  </thead>\n",
       "  <tbody>\n",
       "    <tr>\n",
       "      <th>0</th>\n",
       "      <td>test</td>\n",
       "      <td>1</td>\n",
       "      <td>48.294046</td>\n",
       "    </tr>\n",
       "    <tr>\n",
       "      <th>1</th>\n",
       "      <td>test</td>\n",
       "      <td>2</td>\n",
       "      <td>50.561098</td>\n",
       "    </tr>\n",
       "    <tr>\n",
       "      <th>2</th>\n",
       "      <td>test</td>\n",
       "      <td>3</td>\n",
       "      <td>50.987911</td>\n",
       "    </tr>\n",
       "    <tr>\n",
       "      <th>3</th>\n",
       "      <td>test</td>\n",
       "      <td>4</td>\n",
       "      <td>47.819840</td>\n",
       "    </tr>\n",
       "    <tr>\n",
       "      <th>4</th>\n",
       "      <td>test</td>\n",
       "      <td>5</td>\n",
       "      <td>50.153417</td>\n",
       "    </tr>\n",
       "    <tr>\n",
       "      <th>...</th>\n",
       "      <td>...</td>\n",
       "      <td>...</td>\n",
       "      <td>...</td>\n",
       "    </tr>\n",
       "    <tr>\n",
       "      <th>1993</th>\n",
       "      <td>control</td>\n",
       "      <td>1994</td>\n",
       "      <td>50.207788</td>\n",
       "    </tr>\n",
       "    <tr>\n",
       "      <th>1994</th>\n",
       "      <td>control</td>\n",
       "      <td>1995</td>\n",
       "      <td>51.715447</td>\n",
       "    </tr>\n",
       "    <tr>\n",
       "      <th>1995</th>\n",
       "      <td>control</td>\n",
       "      <td>1996</td>\n",
       "      <td>56.551077</td>\n",
       "    </tr>\n",
       "    <tr>\n",
       "      <th>1996</th>\n",
       "      <td>control</td>\n",
       "      <td>1997</td>\n",
       "      <td>47.178478</td>\n",
       "    </tr>\n",
       "    <tr>\n",
       "      <th>1997</th>\n",
       "      <td>control</td>\n",
       "      <td>1998</td>\n",
       "      <td>49.434447</td>\n",
       "    </tr>\n",
       "  </tbody>\n",
       "</table>\n",
       "<p>1998 rows × 3 columns</p>\n",
       "</div>"
      ],
      "text/plain": [
       "        group  client_id     target\n",
       "0        test          1  48.294046\n",
       "1        test          2  50.561098\n",
       "2        test          3  50.987911\n",
       "3        test          4  47.819840\n",
       "4        test          5  50.153417\n",
       "...       ...        ...        ...\n",
       "1993  control       1994  50.207788\n",
       "1994  control       1995  51.715447\n",
       "1995  control       1996  56.551077\n",
       "1996  control       1997  47.178478\n",
       "1997  control       1998  49.434447\n",
       "\n",
       "[1998 rows x 3 columns]"
      ]
     },
     "execution_count": 14,
     "metadata": {},
     "output_type": "execute_result"
    }
   ],
   "source": [
    "# загрузка датасета\n",
    "df = pd.read_csv('test_1.csv')\n",
    "\n",
    "df"
   ]
  },
  {
   "cell_type": "code",
   "execution_count": 15,
   "metadata": {},
   "outputs": [
    {
     "data": {
      "text/plain": [
       "0       48.294046\n",
       "1       50.561098\n",
       "2       50.987911\n",
       "3       47.819840\n",
       "4       50.153417\n",
       "          ...    \n",
       "1005    49.265965\n",
       "1006    49.575921\n",
       "1007    49.521680\n",
       "1008    48.505817\n",
       "1009    48.880866\n",
       "Name: target, Length: 1010, dtype: float64"
      ]
     },
     "execution_count": 15,
     "metadata": {},
     "output_type": "execute_result"
    }
   ],
   "source": [
    "# выборка данных тестовой группы\n",
    "test = df[df['group'] == 'test'].target\n",
    "\n",
    "test"
   ]
  },
  {
   "cell_type": "code",
   "execution_count": 16,
   "metadata": {},
   "outputs": [
    {
     "data": {
      "text/plain": [
       "1010    51.384842\n",
       "1011    52.147493\n",
       "1012    50.052900\n",
       "1013    50.892682\n",
       "1014    51.457104\n",
       "          ...    \n",
       "1993    50.207788\n",
       "1994    51.715447\n",
       "1995    56.551077\n",
       "1996    47.178478\n",
       "1997    49.434447\n",
       "Name: target, Length: 988, dtype: float64"
      ]
     },
     "execution_count": 16,
     "metadata": {},
     "output_type": "execute_result"
    }
   ],
   "source": [
    "# выборка данных контрольной группы\n",
    "control = df[df['group'] == 'control'].target\n",
    "\n",
    "control"
   ]
  },
  {
   "cell_type": "code",
   "execution_count": 17,
   "metadata": {},
   "outputs": [
    {
     "data": {
      "image/png": "[encoded data removed]",
      "text/plain": [
       "<Figure size 432x288 with 1 Axes>"
      ]
     },
     "metadata": {
      "needs_background": "light"
     },
     "output_type": "display_data"
    }
   ],
   "source": [
    "# построим распределение \n",
    "test.plot(kind='hist', alpha=0.55, legend=True, label='test')\n",
    "control.plot(kind='hist', alpha=0.55, legend=True, label='control');"
   ]
  },
  {
   "cell_type": "code",
   "execution_count": 18,
   "metadata": {},
   "outputs": [
    {
     "name": "stdout",
     "output_type": "stream",
     "text": [
      "Распределение нормальное.\n"
     ]
    }
   ],
   "source": [
    "# проведем тест Шапиро-Уилка на нормальность тестовой выборки\n",
    "alpha = 0.05\n",
    "\n",
    "result = st.shapiro(test)\n",
    "\n",
    "if result[1] > alpha:\n",
    "    print('Распределение нормальное.')\n",
    "else:\n",
    "    print('Распределение не является нормальным.')"
   ]
  },
  {
   "cell_type": "code",
   "execution_count": 19,
   "metadata": {},
   "outputs": [
    {
     "name": "stdout",
     "output_type": "stream",
     "text": [
      "Распределение нормальное.\n"
     ]
    }
   ],
   "source": [
    "# проведем тест Шапиро-Уилка на нормальность контрольной выборки\n",
    "alpha = 0.05\n",
    "\n",
    "result = st.shapiro(control)\n",
    "\n",
    "if result[1] > alpha:\n",
    "    print('Распределение нормальное.')\n",
    "else:\n",
    "    print('Распределение не является нормальным.')"
   ]
  },
  {
   "cell_type": "code",
   "execution_count": 20,
   "metadata": {},
   "outputs": [
    {
     "name": "stdout",
     "output_type": "stream",
     "text": [
      "Отвергаем нулевую гипотезу о равенстве средних двух выборок.\n"
     ]
    }
   ],
   "source": [
    "# t-test проверка двух средних независимых выборок\n",
    "alpha = 0.05\n",
    "\n",
    "res = st.ttest_ind(test, control)\n",
    "\n",
    "if res.pvalue < 0.05:\n",
    "    print('Отвергаем нулевую гипотезу о равенстве средних двух выборок.')\n",
    "else:\n",
    "    print('У нас не достаточно оснований, чтобы отвергнуть нулевую гипотезу и принять альтернативную.')"
   ]
  },
  {
   "cell_type": "code",
   "execution_count": null,
   "metadata": {},
   "outputs": [],
   "source": []
  },
  {
   "cell_type": "markdown",
   "metadata": {},
   "source": [
    "#### Задание 2\n",
    "В файле test_2 лежит результат теста, который был нацелен на увеличение суммы чека клиента ([test_2.csv](https://edu.tinkoff.ru/media/edu-files-ext-100/a960d121-84cb-4ae2-88d0-c18a87dd38a4.csv))\n",
    "\n",
    "Изучите результаты теста и сделайте вывод, увеличилась сумма чека или нет. В качестве решения - ноутбук, в котором построено распределение параметра в группах и проверены нужные критерии."
   ]
  },
  {
   "cell_type": "markdown",
   "metadata": {},
   "source": [
    "#### Решение"
   ]
  },
  {
   "cell_type": "code",
   "execution_count": 21,
   "metadata": {},
   "outputs": [],
   "source": [
    "# импорт библиотек\n",
    "import pandas as pd\n",
    "import matplotlib.pyplot as plt\n",
    "from scipy import stats as st\n",
    "%matplotlib inline"
   ]
  },
  {
   "cell_type": "code",
   "execution_count": 22,
   "metadata": {},
   "outputs": [
    {
     "data": {
      "text/html": [
       "<div>\n",
       "<style scoped>\n",
       "    .dataframe tbody tr th:only-of-type {\n",
       "        vertical-align: middle;\n",
       "    }\n",
       "\n",
       "    .dataframe tbody tr th {\n",
       "        vertical-align: top;\n",
       "    }\n",
       "\n",
       "    .dataframe thead th {\n",
       "        text-align: right;\n",
       "    }\n",
       "</style>\n",
       "<table border=\"1\" class=\"dataframe\">\n",
       "  <thead>\n",
       "    <tr style=\"text-align: right;\">\n",
       "      <th></th>\n",
       "      <th>group</th>\n",
       "      <th>client_id</th>\n",
       "      <th>avg_sum</th>\n",
       "    </tr>\n",
       "  </thead>\n",
       "  <tbody>\n",
       "    <tr>\n",
       "      <th>0</th>\n",
       "      <td>test</td>\n",
       "      <td>1</td>\n",
       "      <td>156.686451</td>\n",
       "    </tr>\n",
       "    <tr>\n",
       "      <th>1</th>\n",
       "      <td>test</td>\n",
       "      <td>2</td>\n",
       "      <td>342.625859</td>\n",
       "    </tr>\n",
       "    <tr>\n",
       "      <th>2</th>\n",
       "      <td>test</td>\n",
       "      <td>3</td>\n",
       "      <td>79.712120</td>\n",
       "    </tr>\n",
       "    <tr>\n",
       "      <th>3</th>\n",
       "      <td>test</td>\n",
       "      <td>4</td>\n",
       "      <td>493.110807</td>\n",
       "    </tr>\n",
       "    <tr>\n",
       "      <th>4</th>\n",
       "      <td>test</td>\n",
       "      <td>5</td>\n",
       "      <td>124.135016</td>\n",
       "    </tr>\n",
       "    <tr>\n",
       "      <th>...</th>\n",
       "      <td>...</td>\n",
       "      <td>...</td>\n",
       "      <td>...</td>\n",
       "    </tr>\n",
       "    <tr>\n",
       "      <th>595</th>\n",
       "      <td>control</td>\n",
       "      <td>596</td>\n",
       "      <td>209.075972</td>\n",
       "    </tr>\n",
       "    <tr>\n",
       "      <th>596</th>\n",
       "      <td>control</td>\n",
       "      <td>597</td>\n",
       "      <td>57.990291</td>\n",
       "    </tr>\n",
       "    <tr>\n",
       "      <th>597</th>\n",
       "      <td>control</td>\n",
       "      <td>598</td>\n",
       "      <td>42.577037</td>\n",
       "    </tr>\n",
       "    <tr>\n",
       "      <th>598</th>\n",
       "      <td>control</td>\n",
       "      <td>599</td>\n",
       "      <td>178.320097</td>\n",
       "    </tr>\n",
       "    <tr>\n",
       "      <th>599</th>\n",
       "      <td>control</td>\n",
       "      <td>600</td>\n",
       "      <td>78.746824</td>\n",
       "    </tr>\n",
       "  </tbody>\n",
       "</table>\n",
       "<p>600 rows × 3 columns</p>\n",
       "</div>"
      ],
      "text/plain": [
       "       group  client_id     avg_sum\n",
       "0       test          1  156.686451\n",
       "1       test          2  342.625859\n",
       "2       test          3   79.712120\n",
       "3       test          4  493.110807\n",
       "4       test          5  124.135016\n",
       "..       ...        ...         ...\n",
       "595  control        596  209.075972\n",
       "596  control        597   57.990291\n",
       "597  control        598   42.577037\n",
       "598  control        599  178.320097\n",
       "599  control        600   78.746824\n",
       "\n",
       "[600 rows x 3 columns]"
      ]
     },
     "execution_count": 22,
     "metadata": {},
     "output_type": "execute_result"
    }
   ],
   "source": [
    "# загрузка датасета\n",
    "df = pd.read_csv('test_2.csv')\n",
    "\n",
    "df"
   ]
  },
  {
   "cell_type": "code",
   "execution_count": 23,
   "metadata": {},
   "outputs": [
    {
     "data": {
      "text/plain": [
       "0      156.686451\n",
       "1      342.625859\n",
       "2       79.712120\n",
       "3      493.110807\n",
       "4      124.135016\n",
       "          ...    \n",
       "301    334.414590\n",
       "302    121.499426\n",
       "303     57.660136\n",
       "304      3.959158\n",
       "305    144.955002\n",
       "Name: avg_sum, Length: 306, dtype: float64"
      ]
     },
     "execution_count": 23,
     "metadata": {},
     "output_type": "execute_result"
    }
   ],
   "source": [
    "# выборка данных тестовой группы\n",
    "test = df[df['group'] == 'test'].avg_sum\n",
    "\n",
    "test"
   ]
  },
  {
   "cell_type": "code",
   "execution_count": 24,
   "metadata": {},
   "outputs": [
    {
     "data": {
      "text/plain": [
       "306    141.258738\n",
       "307      9.723965\n",
       "308      6.561793\n",
       "309    164.938532\n",
       "310    197.558111\n",
       "          ...    \n",
       "595    209.075972\n",
       "596     57.990291\n",
       "597     42.577037\n",
       "598    178.320097\n",
       "599     78.746824\n",
       "Name: avg_sum, Length: 294, dtype: float64"
      ]
     },
     "execution_count": 24,
     "metadata": {},
     "output_type": "execute_result"
    }
   ],
   "source": [
    "# выборка данных контрольной группы\n",
    "control = df[df['group'] == 'control'].avg_sum\n",
    "\n",
    "control"
   ]
  },
  {
   "cell_type": "code",
   "execution_count": 25,
   "metadata": {},
   "outputs": [
    {
     "data": {
      "image/png": "[encoded data removed]",
      "text/plain": [
       "<Figure size 432x288 with 1 Axes>"
      ]
     },
     "metadata": {
      "needs_background": "light"
     },
     "output_type": "display_data"
    }
   ],
   "source": [
    "# построим распределение \n",
    "test.plot(kind='hist', alpha=0.55, legend=True, label='test')\n",
    "control.plot(kind='hist', alpha=0.55, legend=True, label='control');"
   ]
  },
  {
   "cell_type": "code",
   "execution_count": 26,
   "metadata": {},
   "outputs": [
    {
     "name": "stdout",
     "output_type": "stream",
     "text": [
      "Распределение не является нормальным.\n"
     ]
    }
   ],
   "source": [
    "# проведем тест Шапиро-Уилка на нормальность тестовой выборки\n",
    "alpha = 0.05\n",
    "\n",
    "result = st.shapiro(test)\n",
    "\n",
    "if result[1] > alpha:\n",
    "    print('Распределение нормальное.')\n",
    "else:\n",
    "    print('Распределение не является нормальным.')"
   ]
  },
  {
   "cell_type": "code",
   "execution_count": 27,
   "metadata": {},
   "outputs": [
    {
     "name": "stdout",
     "output_type": "stream",
     "text": [
      "Распределение не является нормальным.\n"
     ]
    }
   ],
   "source": [
    "# проведем тест Шапиро-Уилка на нормальность контрольной выборки\n",
    "alpha = 0.05\n",
    "\n",
    "result = st.shapiro(control)\n",
    "\n",
    "if result[1] > alpha:\n",
    "    print('Распределение нормальное.')\n",
    "else:\n",
    "    print('Распределение не является нормальным.')"
   ]
  },
  {
   "cell_type": "code",
   "execution_count": 28,
   "metadata": {},
   "outputs": [
    {
     "name": "stdout",
     "output_type": "stream",
     "text": [
      "Удалось достичь статзначимого различия.\n",
      "Сумма чека увеличилась.\n"
     ]
    }
   ],
   "source": [
    "# Используем непараметрический тест Манна-Уитни\n",
    "alpha = 0.05\n",
    "\n",
    "result = st.mannwhitneyu(test, control, alternative='two-sided')\n",
    "\n",
    "# результат (вывод)\n",
    "if result[1] <= alpha:\n",
    "    print('Удалось достичь статзначимого различия.')\n",
    "    if test.mean() > control.mean():\n",
    "        print('Сумма чека увеличилась.')\n",
    "    else:\n",
    "        print('Сумма чека уменьшилась.')\n",
    "else:\n",
    "    print('Статзначимого различия достичь не удалось. Не можем судить о влиянии теста на сумму среднего чека.')"
   ]
  },
  {
   "cell_type": "code",
   "execution_count": null,
   "metadata": {},
   "outputs": [],
   "source": []
  },
  {
   "cell_type": "markdown",
   "metadata": {},
   "source": [
    "#### Задание 3\n",
    "В файле test_3 лежит результат теста рассылки email, целевая метрика - конверсия в переход на сайт с этого email ([test_3.csv](https://edu.tinkoff.ru/media/edu-files-ext-100/3831f6ba-df5c-4523-b9b6-67d7123d6b96.csv)).\n",
    "\n",
    "Изучите результаты теста и сделайте вывод , увеличилась конверсия или нет. В качестве решения - ноутбук, в котором построено распределение параметра в группах и проверены нужные критерии."
   ]
  },
  {
   "cell_type": "markdown",
   "metadata": {},
   "source": [
    "#### Решение"
   ]
  },
  {
   "cell_type": "code",
   "execution_count": 29,
   "metadata": {},
   "outputs": [],
   "source": [
    "# импорт библиотек\n",
    "import pandas as pd\n",
    "import matplotlib.pyplot as plt\n",
    "from statsmodels.stats.proportion import proportions_ztest\n",
    "%matplotlib inline"
   ]
  },
  {
   "cell_type": "code",
   "execution_count": 30,
   "metadata": {},
   "outputs": [
    {
     "data": {
      "text/html": [
       "<div>\n",
       "<style scoped>\n",
       "    .dataframe tbody tr th:only-of-type {\n",
       "        vertical-align: middle;\n",
       "    }\n",
       "\n",
       "    .dataframe tbody tr th {\n",
       "        vertical-align: top;\n",
       "    }\n",
       "\n",
       "    .dataframe thead th {\n",
       "        text-align: right;\n",
       "    }\n",
       "</style>\n",
       "<table border=\"1\" class=\"dataframe\">\n",
       "  <thead>\n",
       "    <tr style=\"text-align: right;\">\n",
       "      <th></th>\n",
       "      <th>group</th>\n",
       "      <th>client_id</th>\n",
       "      <th>click_flg</th>\n",
       "    </tr>\n",
       "  </thead>\n",
       "  <tbody>\n",
       "    <tr>\n",
       "      <th>0</th>\n",
       "      <td>test</td>\n",
       "      <td>1</td>\n",
       "      <td>1</td>\n",
       "    </tr>\n",
       "    <tr>\n",
       "      <th>1</th>\n",
       "      <td>test</td>\n",
       "      <td>2</td>\n",
       "      <td>0</td>\n",
       "    </tr>\n",
       "    <tr>\n",
       "      <th>2</th>\n",
       "      <td>test</td>\n",
       "      <td>3</td>\n",
       "      <td>0</td>\n",
       "    </tr>\n",
       "    <tr>\n",
       "      <th>3</th>\n",
       "      <td>test</td>\n",
       "      <td>4</td>\n",
       "      <td>1</td>\n",
       "    </tr>\n",
       "    <tr>\n",
       "      <th>4</th>\n",
       "      <td>test</td>\n",
       "      <td>5</td>\n",
       "      <td>1</td>\n",
       "    </tr>\n",
       "    <tr>\n",
       "      <th>...</th>\n",
       "      <td>...</td>\n",
       "      <td>...</td>\n",
       "      <td>...</td>\n",
       "    </tr>\n",
       "    <tr>\n",
       "      <th>20028</th>\n",
       "      <td>control</td>\n",
       "      <td>20029</td>\n",
       "      <td>0</td>\n",
       "    </tr>\n",
       "    <tr>\n",
       "      <th>20029</th>\n",
       "      <td>control</td>\n",
       "      <td>20030</td>\n",
       "      <td>1</td>\n",
       "    </tr>\n",
       "    <tr>\n",
       "      <th>20030</th>\n",
       "      <td>control</td>\n",
       "      <td>20031</td>\n",
       "      <td>1</td>\n",
       "    </tr>\n",
       "    <tr>\n",
       "      <th>20031</th>\n",
       "      <td>control</td>\n",
       "      <td>20032</td>\n",
       "      <td>0</td>\n",
       "    </tr>\n",
       "    <tr>\n",
       "      <th>20032</th>\n",
       "      <td>control</td>\n",
       "      <td>20033</td>\n",
       "      <td>0</td>\n",
       "    </tr>\n",
       "  </tbody>\n",
       "</table>\n",
       "<p>20033 rows × 3 columns</p>\n",
       "</div>"
      ],
      "text/plain": [
       "         group  client_id  click_flg\n",
       "0         test          1          1\n",
       "1         test          2          0\n",
       "2         test          3          0\n",
       "3         test          4          1\n",
       "4         test          5          1\n",
       "...        ...        ...        ...\n",
       "20028  control      20029          0\n",
       "20029  control      20030          1\n",
       "20030  control      20031          1\n",
       "20031  control      20032          0\n",
       "20032  control      20033          0\n",
       "\n",
       "[20033 rows x 3 columns]"
      ]
     },
     "execution_count": 30,
     "metadata": {},
     "output_type": "execute_result"
    }
   ],
   "source": [
    "# загрузка датасета\n",
    "df = pd.read_csv('test_3.csv')\n",
    "\n",
    "df"
   ]
  },
  {
   "cell_type": "code",
   "execution_count": 31,
   "metadata": {},
   "outputs": [
    {
     "data": {
      "text/plain": [
       "0        1\n",
       "1        0\n",
       "2        0\n",
       "3        1\n",
       "4        1\n",
       "        ..\n",
       "10018    1\n",
       "10019    0\n",
       "10020    0\n",
       "10021    0\n",
       "10022    1\n",
       "Name: click_flg, Length: 10023, dtype: int64"
      ]
     },
     "execution_count": 31,
     "metadata": {},
     "output_type": "execute_result"
    }
   ],
   "source": [
    "# выборка данных тестовой группы\n",
    "test = df[df['group'] == 'test'].click_flg\n",
    "\n",
    "test"
   ]
  },
  {
   "cell_type": "code",
   "execution_count": 32,
   "metadata": {},
   "outputs": [
    {
     "data": {
      "text/plain": [
       "10023    0\n",
       "10024    0\n",
       "10025    0\n",
       "10026    0\n",
       "10027    0\n",
       "        ..\n",
       "20028    0\n",
       "20029    1\n",
       "20030    1\n",
       "20031    0\n",
       "20032    0\n",
       "Name: click_flg, Length: 10010, dtype: int64"
      ]
     },
     "execution_count": 32,
     "metadata": {},
     "output_type": "execute_result"
    }
   ],
   "source": [
    "# выборка данных контрольной группы\n",
    "control = df[df['group'] == 'control'].click_flg\n",
    "\n",
    "control"
   ]
  },
  {
   "cell_type": "code",
   "execution_count": 33,
   "metadata": {},
   "outputs": [
    {
     "data": {
      "image/png": "[encoded data removed]",
      "text/plain": [
       "<Figure size 432x288 with 1 Axes>"
      ]
     },
     "metadata": {
      "needs_background": "light"
     },
     "output_type": "display_data"
    }
   ],
   "source": [
    "# построим распределение \n",
    "test.plot(kind='hist', alpha=0.55, legend=True, label='test')\n",
    "control.plot(kind='hist', alpha=0.55, legend=True, label='control');"
   ]
  },
  {
   "cell_type": "code",
   "execution_count": 34,
   "metadata": {},
   "outputs": [
    {
     "name": "stdout",
     "output_type": "stream",
     "text": [
      "zscore = -2.5952, pvalue = 0.0095\n",
      "Результат теста cтатзначимый.\n",
      "Конверсию увеличить не удалось.\n"
     ]
    }
   ],
   "source": [
    "# проведем Z-test для двух выборок c биномиальным распределением\n",
    "alpha = 0.05\n",
    "\n",
    "zscore, pvalue = proportions_ztest([sum(test), sum(control)], [len(test), len(control)], alternative = 'two-sided')\n",
    "print('zscore = {:.4f}, pvalue = {:.4f}'.format(zscore, pvalue))\n",
    "\n",
    "if pvalue <= alpha:\n",
    "    print('Результат теста cтатзначимый.')\n",
    "    if test.mean() > control.mean():\n",
    "        print('Удалось увеличить конверсию.')\n",
    "    else:\n",
    "        print('Конверсию увеличить не удалось.')\n",
    "else:\n",
    "    print('Не удалось отвергнуть нулевую гипотезу о равенстве результатов и получить статзначимый результат.')"
   ]
  }
 ],
 "metadata": {
  "kernelspec": {
   "display_name": "Python 3",
   "language": "python",
   "name": "python3"
  },
  "language_info": {
   "codemirror_mode": {
    "name": "ipython",
    "version": 3
   },
   "file_extension": ".py",
   "mimetype": "text/x-python",
   "name": "python",
   "nbconvert_exporter": "python",
   "pygments_lexer": "ipython3",
   "version": "3.7.6"
  }
 },
 "nbformat": 4,
 "nbformat_minor": 4
}
