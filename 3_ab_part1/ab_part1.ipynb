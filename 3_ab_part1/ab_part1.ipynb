{
 "cells": [
  {
   "cell_type": "markdown",
   "metadata": {},
   "source": [
    "## Задания"
   ]
  },
  {
   "cell_type": "markdown",
   "metadata": {},
   "source": [
    "### Задание 1\n",
    "Тинькофф.Таргет - это агрегатор кэшбэков от партнеров (супермаркеты, магазины электроники, онлайн-магазины, заправки и т.п.).  \n",
    "\n",
    "Под каждого партнера собирается целевая аудитория и запускается таргет на ограниченный период, поэтому у каждого клиента свой набор офферов и они периодически меняются.  \n",
    "\n",
    "Механика: когда клиент совершает покупку по нашей карте в магазине X и у него есть оффер от этого партнера, он получает часть денег (какой-то фиксированный процент) за эту операцию обратно на карту.  \n",
    "\n",
    "Одна из основных целей этого сервиса - чтобы как можно больше операций клиентов проходили через офферы.  \n",
    "\n",
    "Например, если клиент хочет купить велосипед, то он сначала идет в наш сервис, смотрит есть ли у него кэшбэк в таком магазине и покупает велосипед по офферу.  \n",
    "\n",
    "Плохой сценарий: если у клиента нет подходящего оффера или клиент его не находит среди других (у каждого клиента в моменте 200-400 офферов).  \n",
    "\n",
    "**Придумайте 2 кейса-гипотезы для достижения основной цели и опишите процесс проведения исследования и АВ теста для проверки этой гипотезы.**  "
   ]
  },
  {
   "cell_type": "markdown",
   "metadata": {},
   "source": [
    "#### Решение"
   ]
  },
  {
   "cell_type": "markdown",
   "metadata": {},
   "source": [
    "**Кейс 1.**  \n",
    "Предложить пользователям пройти опрос какие категории кэшбэка их интересуют больше всего. Разделить пользователей на две группы: А - рассказавшие о своих предпочтениях; Б - не ставшие отвечать на вопросы опроса. После группе А предлагать офферы максимально релевантные их интересам. Группе Б предлагать случайные офферы.  \n",
    "\n",
    "**Нулевая гипотеза.** Количество операций клиентом через офферы не изменилось после участия в опросе.  \n",
    "\n",
    "**Альтернативная гипотеза.** Участие в опросе и получение офферов совпадающих с интересами пользователя статистически значимо изменяет количество операций клиентом по офферам."
   ]
  },
  {
   "cell_type": "markdown",
   "metadata": {},
   "source": [
    "**Кейс 2.** \n",
    "\n",
    "Проанализировать транзакции пользователей за предыдущий период. Разделить пользователей на две группы: А - пользователи с проанализированными транзакциями; Б - пользователи анализ транзакций которых не проводился. После группе А предлагать офферы коррелирующие с их предыдущей историей транзакций. Группе Б предлагать случайные офферы.\n",
    "\n",
    "**Нулевая гипотеза.** Количество операций по офферам клиентов из группы А и клиентов из группы Б равны.\n",
    "\n",
    "**Альтернативная гипотеза.** Анализ транзакций пользователей за предыдущий период статистически значимо изменяет количество операций клиентом по офферам."
   ]
  },
  {
   "cell_type": "code",
   "execution_count": null,
   "metadata": {},
   "outputs": [],
   "source": []
  },
  {
   "cell_type": "markdown",
   "metadata": {},
   "source": [
    "### Задание 2  \n",
    "Маркетологи тестировали тему email-письма (разным группам послали email с разными темами).  \n",
    "\n",
    "|     | Послали email  | Открыли email |\n",
    "| ----- | ------------- | ------------- |\n",
    "| Группа A | 10000 | 2200  |\n",
    "| Группа B | 10000  | 2000  |\n",
    "\n",
    "Целевой метрикой был процент открытий.\n",
    "\n",
    "**Какой теме стоит отдать предпочтение и почему? Объясните свое решение**"
   ]
  },
  {
   "cell_type": "markdown",
   "metadata": {},
   "source": [
    "#### Решение"
   ]
  },
  {
   "cell_type": "code",
   "execution_count": 208,
   "metadata": {},
   "outputs": [],
   "source": [
    "# импорт библиотек\n",
    "import numpy as np\n",
    "import pandas as pd\n",
    "from scipy.stats import chi2_contingency"
   ]
  },
  {
   "cell_type": "code",
   "execution_count": 209,
   "metadata": {},
   "outputs": [],
   "source": [
    "# задаем параметры групп\n",
    "gr1_opened = 2200\n",
    "gr2_opened = 2000\n",
    "total = 10000"
   ]
  },
  {
   "cell_type": "code",
   "execution_count": 210,
   "metadata": {},
   "outputs": [],
   "source": [
    "# моделируем группу А\n",
    "gr1_ones = np.ones(gr1_opened, dtype='int')\n",
    "gr1_zeros = np.zeros(total - gr1_opened, dtype='int')\n",
    "group1_label = ['group A' for x in range(10000)]\n",
    "group1 = np.concatenate((gr1_ones, gr1_zeros))\n",
    "np.random.shuffle(group1)"
   ]
  },
  {
   "cell_type": "code",
   "execution_count": 211,
   "metadata": {},
   "outputs": [],
   "source": [
    "# моделируем группу B\n",
    "gr2_ones = np.ones(gr2_opened, dtype='int')\n",
    "gr2_zeros = np.zeros(total-gr2_opened, dtype='int')\n",
    "group2_label = ['group B' for x in range(10000)]\n",
    "group2 = np.concatenate((gr2_ones, gr2_zeros))\n",
    "np.random.shuffle(group2)"
   ]
  },
  {
   "cell_type": "code",
   "execution_count": 212,
   "metadata": {},
   "outputs": [],
   "source": [
    "# создаем датафрейм\n",
    "df1 = pd.DataFrame({'value': group1, 'group': group1_label})\n",
    "df2 = pd.DataFrame({'value': group2, 'group': group2_label})\n",
    "\n",
    "df = pd.concat([df1, df2], axis=0).reset_index(drop=True)"
   ]
  },
  {
   "cell_type": "code",
   "execution_count": 213,
   "metadata": {},
   "outputs": [
    {
     "data": {
      "text/html": [
       "<div>\n",
       "<style scoped>\n",
       "    .dataframe tbody tr th:only-of-type {\n",
       "        vertical-align: middle;\n",
       "    }\n",
       "\n",
       "    .dataframe tbody tr th {\n",
       "        vertical-align: top;\n",
       "    }\n",
       "\n",
       "    .dataframe thead th {\n",
       "        text-align: right;\n",
       "    }\n",
       "</style>\n",
       "<table border=\"1\" class=\"dataframe\">\n",
       "  <thead>\n",
       "    <tr style=\"text-align: right;\">\n",
       "      <th>value</th>\n",
       "      <th>0</th>\n",
       "      <th>1</th>\n",
       "    </tr>\n",
       "    <tr>\n",
       "      <th>group</th>\n",
       "      <th></th>\n",
       "      <th></th>\n",
       "    </tr>\n",
       "  </thead>\n",
       "  <tbody>\n",
       "    <tr>\n",
       "      <th>group A</th>\n",
       "      <td>7800</td>\n",
       "      <td>2200</td>\n",
       "    </tr>\n",
       "    <tr>\n",
       "      <th>group B</th>\n",
       "      <td>8000</td>\n",
       "      <td>2000</td>\n",
       "    </tr>\n",
       "  </tbody>\n",
       "</table>\n",
       "</div>"
      ],
      "text/plain": [
       "value       0     1\n",
       "group              \n",
       "group A  7800  2200\n",
       "group B  8000  2000"
      ]
     },
     "execution_count": 213,
     "metadata": {},
     "output_type": "execute_result"
    }
   ],
   "source": [
    "# перекрестная таблица\n",
    "pd.crosstab(index=df.group, columns=df.value)"
   ]
  },
  {
   "cell_type": "code",
   "execution_count": 214,
   "metadata": {},
   "outputs": [],
   "source": [
    "# воспользуемся chi square, т.к. имеем дело с дискретными данными\n",
    "stat, p, dof, expected = chi2_contingency(pd.crosstab(index=df.group, columns=df.value))"
   ]
  },
  {
   "cell_type": "code",
   "execution_count": 215,
   "metadata": {},
   "outputs": [
    {
     "name": "stdout",
     "output_type": "stream",
     "text": [
      "Отклоняем нулевую гипотезу о равенстве двух групп. И принимаем альтернативную гипотезу о наличии статистически значимых различий.\n",
      "Отдаем предпочтение группе A.\n"
     ]
    }
   ],
   "source": [
    "# проводим t-test\n",
    "alpha = 0.05  # уровень значимости\n",
    "\n",
    "# вывод результата\n",
    "if p <= alpha:\n",
    "    print('Отклоняем нулевую гипотезу о равенстве двух групп. И принимаем альтернативную гипотезу о наличии статистически значимых различий.')\n",
    "    if df[df['group'] == 'group A'].value.mean() > df[df['group'] == 'group B'].value.mean():\n",
    "        print('Отдаем предпочтение группе A.')\n",
    "    else:\n",
    "        print('Отдаем предпочтение группе B.')\n",
    "else:\n",
    "    print('Не удалось выявить статистически значимые различия и отклонить нулевую гипотезу.\\nНет разницы какой группе отдать предпочтение, т.к. они равны.')"
   ]
  },
  {
   "cell_type": "code",
   "execution_count": null,
   "metadata": {},
   "outputs": [],
   "source": []
  },
  {
   "cell_type": "markdown",
   "metadata": {},
   "source": [
    "### Задание 3 \n",
    "Маркетологи тестировали тему email-письма (разным группам послали email с разными темами).  \n",
    "\n",
    "|     | Послали email  | Открыли email |\n",
    "| ----- | ------------- | ------------- |\n",
    "| Группа A | 10000 | 2070  |\n",
    "| Группа B | 10000  | 2000  |\n",
    "\n",
    "Целевой метрикой был процент открытий.\n",
    "\n",
    "**Какой теме стоит отдать предпочтение и почему? Объясните свое решение**"
   ]
  },
  {
   "cell_type": "markdown",
   "metadata": {},
   "source": [
    "#### Решение"
   ]
  },
  {
   "cell_type": "code",
   "execution_count": 216,
   "metadata": {},
   "outputs": [],
   "source": [
    "# импорт библиотек\n",
    "import numpy as np\n",
    "import pandas as pd\n",
    "from scipy.stats import chi2_contingency"
   ]
  },
  {
   "cell_type": "code",
   "execution_count": 217,
   "metadata": {},
   "outputs": [],
   "source": [
    "# задаем параметры групп\n",
    "gr1_opened = 2070\n",
    "gr2_opened = 2000\n",
    "total = 10000"
   ]
  },
  {
   "cell_type": "code",
   "execution_count": 218,
   "metadata": {},
   "outputs": [],
   "source": [
    "# моделируем группу А\n",
    "gr1_ones = np.ones(gr1_opened, dtype='int')\n",
    "gr1_zeros = np.zeros(total - gr1_opened, dtype='int')\n",
    "group1_label = ['group A' for x in range(10000)]\n",
    "group1 = np.concatenate((gr1_ones, gr1_zeros))\n",
    "np.random.shuffle(group1)"
   ]
  },
  {
   "cell_type": "code",
   "execution_count": 219,
   "metadata": {},
   "outputs": [],
   "source": [
    "# моделируем группу B\n",
    "gr2_ones = np.ones(gr2_opened, dtype='int')\n",
    "gr2_zeros = np.zeros(total-gr2_opened, dtype='int')\n",
    "group2_label = ['group B' for x in range(10000)]\n",
    "group2 = np.concatenate((gr2_ones, gr2_zeros))\n",
    "np.random.shuffle(group2)"
   ]
  },
  {
   "cell_type": "code",
   "execution_count": 220,
   "metadata": {},
   "outputs": [],
   "source": [
    "# создаем датафрейм\n",
    "df1 = pd.DataFrame({'value': group1, 'group': group1_label})\n",
    "df2 = pd.DataFrame({'value': group2, 'group': group2_label})\n",
    "\n",
    "df = pd.concat([df1, df2], axis=0).reset_index(drop=True)"
   ]
  },
  {
   "cell_type": "code",
   "execution_count": 221,
   "metadata": {},
   "outputs": [
    {
     "data": {
      "text/html": [
       "<div>\n",
       "<style scoped>\n",
       "    .dataframe tbody tr th:only-of-type {\n",
       "        vertical-align: middle;\n",
       "    }\n",
       "\n",
       "    .dataframe tbody tr th {\n",
       "        vertical-align: top;\n",
       "    }\n",
       "\n",
       "    .dataframe thead th {\n",
       "        text-align: right;\n",
       "    }\n",
       "</style>\n",
       "<table border=\"1\" class=\"dataframe\">\n",
       "  <thead>\n",
       "    <tr style=\"text-align: right;\">\n",
       "      <th>value</th>\n",
       "      <th>0</th>\n",
       "      <th>1</th>\n",
       "    </tr>\n",
       "    <tr>\n",
       "      <th>group</th>\n",
       "      <th></th>\n",
       "      <th></th>\n",
       "    </tr>\n",
       "  </thead>\n",
       "  <tbody>\n",
       "    <tr>\n",
       "      <th>group A</th>\n",
       "      <td>7930</td>\n",
       "      <td>2070</td>\n",
       "    </tr>\n",
       "    <tr>\n",
       "      <th>group B</th>\n",
       "      <td>8000</td>\n",
       "      <td>2000</td>\n",
       "    </tr>\n",
       "  </tbody>\n",
       "</table>\n",
       "</div>"
      ],
      "text/plain": [
       "value       0     1\n",
       "group              \n",
       "group A  7930  2070\n",
       "group B  8000  2000"
      ]
     },
     "execution_count": 221,
     "metadata": {},
     "output_type": "execute_result"
    }
   ],
   "source": [
    "# перекрестная таблица\n",
    "pd.crosstab(index=df.group, columns=df.value)"
   ]
  },
  {
   "cell_type": "code",
   "execution_count": 222,
   "metadata": {},
   "outputs": [],
   "source": [
    "# воспользуемся chi square, т.к. имеем дело с дискретными данными\n",
    "stat, p, dof, expected = chi2_contingency(pd.crosstab(index=df.group, columns=df.value))"
   ]
  },
  {
   "cell_type": "code",
   "execution_count": 223,
   "metadata": {},
   "outputs": [
    {
     "name": "stdout",
     "output_type": "stream",
     "text": [
      "Не удалось выявить статистически значимые различия и отклонить нулевую гипотезу.\n",
      "Нет разницы какой группе отдать предпочтение, т.к. они \"равны\".\n"
     ]
    }
   ],
   "source": [
    "# проводим t-test\n",
    "alpha = 0.05  # уровень значимости\n",
    "\n",
    "# вывод результата\n",
    "if p <= alpha:\n",
    "    print('Отклоняем нулевую гипотезу о равенстве двух групп. И принимаем альтернативную гипотезу о наличии статистически значимых различий.')\n",
    "    if df[df['group'] == 'group A'].value.mean() > df[df['group'] == 'group B'].value.mean():\n",
    "        print('Отдаем предпочтение группе A.')\n",
    "    else:\n",
    "        print('Отдаем предпочтение группе B.')\n",
    "else:\n",
    "    print('Не удалось выявить статистически значимые различия и отклонить нулевую гипотезу.\\nНет разницы какой группе отдать предпочтение, т.к. они \"равны\".')"
   ]
  },
  {
   "cell_type": "code",
   "execution_count": null,
   "metadata": {},
   "outputs": [],
   "source": []
  },
  {
   "cell_type": "markdown",
   "metadata": {},
   "source": [
    "### Задание 4 \n",
    "Тестовой группе отправляется пуш с призывом совершить оплату, контрольной группе не отправляли.\n",
    "\n",
    "|     | Размер группы  | Совершили оплату |\n",
    "| ----- | ------------- | ------------- |\n",
    "| Тест | 100 | 65  |\n",
    "| Контроль | 100  | 50 |\n",
    "\n",
    "**Является ли различие статистически значимым при уровне значимости 1%? А при 5%?**"
   ]
  },
  {
   "cell_type": "markdown",
   "metadata": {},
   "source": [
    "#### Решение"
   ]
  },
  {
   "cell_type": "code",
   "execution_count": 224,
   "metadata": {},
   "outputs": [],
   "source": [
    "# импорт библиотек\n",
    "import numpy as np\n",
    "import pandas as pd\n",
    "from scipy.stats import chi2_contingency"
   ]
  },
  {
   "cell_type": "code",
   "execution_count": 225,
   "metadata": {},
   "outputs": [],
   "source": [
    "# задаем параметры групп\n",
    "gr1_opened = 65\n",
    "gr2_opened = 50\n",
    "total = 100"
   ]
  },
  {
   "cell_type": "code",
   "execution_count": 226,
   "metadata": {},
   "outputs": [],
   "source": [
    "# моделируем группу А\n",
    "gr1_ones = np.ones(gr1_opened, dtype='int')\n",
    "gr1_zeros = np.zeros(total - gr1_opened, dtype='int')\n",
    "group1_label = ['Тест' for x in range(total)]\n",
    "group1 = np.concatenate((gr1_ones, gr1_zeros))\n",
    "np.random.shuffle(group1)"
   ]
  },
  {
   "cell_type": "code",
   "execution_count": 227,
   "metadata": {},
   "outputs": [],
   "source": [
    "# моделируем группу B\n",
    "gr2_ones = np.ones(gr2_opened, dtype='int')\n",
    "gr2_zeros = np.zeros(total-gr2_opened, dtype='int')\n",
    "group2_label = ['Контроль' for x in range(total)]\n",
    "group2 = np.concatenate((gr2_ones, gr2_zeros))\n",
    "np.random.shuffle(group2)"
   ]
  },
  {
   "cell_type": "code",
   "execution_count": 228,
   "metadata": {},
   "outputs": [],
   "source": [
    "# создаем датафрейм\n",
    "df1 = pd.DataFrame({'value': group1, 'group': group1_label})\n",
    "df2 = pd.DataFrame({'value': group2, 'group': group2_label})\n",
    "\n",
    "df = pd.concat([df1, df2], axis=0).reset_index(drop=True)"
   ]
  },
  {
   "cell_type": "code",
   "execution_count": 229,
   "metadata": {
    "scrolled": true
   },
   "outputs": [
    {
     "data": {
      "text/html": [
       "<div>\n",
       "<style scoped>\n",
       "    .dataframe tbody tr th:only-of-type {\n",
       "        vertical-align: middle;\n",
       "    }\n",
       "\n",
       "    .dataframe tbody tr th {\n",
       "        vertical-align: top;\n",
       "    }\n",
       "\n",
       "    .dataframe thead th {\n",
       "        text-align: right;\n",
       "    }\n",
       "</style>\n",
       "<table border=\"1\" class=\"dataframe\">\n",
       "  <thead>\n",
       "    <tr style=\"text-align: right;\">\n",
       "      <th>value</th>\n",
       "      <th>0</th>\n",
       "      <th>1</th>\n",
       "    </tr>\n",
       "    <tr>\n",
       "      <th>group</th>\n",
       "      <th></th>\n",
       "      <th></th>\n",
       "    </tr>\n",
       "  </thead>\n",
       "  <tbody>\n",
       "    <tr>\n",
       "      <th>Контроль</th>\n",
       "      <td>50</td>\n",
       "      <td>50</td>\n",
       "    </tr>\n",
       "    <tr>\n",
       "      <th>Тест</th>\n",
       "      <td>35</td>\n",
       "      <td>65</td>\n",
       "    </tr>\n",
       "  </tbody>\n",
       "</table>\n",
       "</div>"
      ],
      "text/plain": [
       "value      0   1\n",
       "group           \n",
       "Контроль  50  50\n",
       "Тест      35  65"
      ]
     },
     "execution_count": 229,
     "metadata": {},
     "output_type": "execute_result"
    }
   ],
   "source": [
    "# перекрестная таблица\n",
    "pd.crosstab(index=df.group, columns=df.value)"
   ]
  },
  {
   "cell_type": "code",
   "execution_count": 230,
   "metadata": {},
   "outputs": [],
   "source": [
    "# воспользуемся chi square, т.к. имеем дело с дискретными данными\n",
    "stat, p, dof, expected = chi2_contingency(pd.crosstab(index=df.group, columns=df.value))"
   ]
  },
  {
   "cell_type": "code",
   "execution_count": 231,
   "metadata": {},
   "outputs": [
    {
     "name": "stdout",
     "output_type": "stream",
     "text": [
      "Уровень статистической значимости alpha = 0.05\n",
      "Удалось получить статистически значимые различия. Отклоняем нулевую гипотезу о равенстве двух групп и принимаем альтернативную.\n",
      "\n",
      "Уровень статистической значимости alpha = 0.01\n",
      "Не удалось выявить статистически значимые различия и отклонить нулевую гипотезу.\n",
      "\n"
     ]
    }
   ],
   "source": [
    "# проводим t-test\n",
    "alphas = [0.05, 0.01]  # уровени значимости\n",
    "\n",
    "# вывод результата\n",
    "for alpha in alphas:\n",
    "    print(f'Уровень статистической значимости alpha = {alpha}')\n",
    "    if p <= alpha:\n",
    "        print('Удалось получить статистически значимые различия. Отклоняем нулевую гипотезу о равенстве двух групп и принимаем альтернативную.\\n')\n",
    "    else:\n",
    "        print('Не удалось выявить статистически значимые различия и отклонить нулевую гипотезу.\\n')"
   ]
  },
  {
   "cell_type": "code",
   "execution_count": null,
   "metadata": {},
   "outputs": [],
   "source": []
  },
  {
   "cell_type": "markdown",
   "metadata": {},
   "source": [
    "### Задание 5\n",
    "Хотим протестировать новую версию сайта. Ожидаем, что вырастет число регистраций.  \n",
    "\n",
    "Обычно дневная конверсия из захода на сайт в регистрацию - 50%. Хотим поймать изменение на 5 %-пунктов при уровне значимости 1% и мощности 80%.  \n",
    "\n",
    "Так же известно, что каждый день к нам на сайт приходит 100 уникальных пользователей.  \n",
    "\n",
    "**Какой размер выборки нам нужен? Сколько дней требуется проводить АВ тест?**"
   ]
  },
  {
   "cell_type": "markdown",
   "metadata": {},
   "source": [
    "#### Решение"
   ]
  },
  {
   "cell_type": "markdown",
   "metadata": {},
   "source": [
    "Воспользуемся калькулятором: https://abtestguide.com/abtestsize/  \n",
    "Нам понадобится выборка размером 8022 уникальных посетителя.  \n",
    "Длительность АВ теста составит 23 недели (161 день).\n",
    "<img src='task5.png'>"
   ]
  },
  {
   "cell_type": "code",
   "execution_count": null,
   "metadata": {},
   "outputs": [],
   "source": []
  },
  {
   "cell_type": "markdown",
   "metadata": {},
   "source": [
    "### Задание 6 \n",
    "|     | Размер группы  | Оставили заявку |\n",
    "| ----- | ------------- | ------------- |\n",
    "| Тест | 1000 | 600  |\n",
    "| Контроль | 1000  | 500 |\n",
    "\n",
    "Проводим обзвон клиентов (тест – звоним, контроль – нет).  \n",
    "\n",
    "Цель – чтобы клиент оставил заявку на продукт.  \n",
    "\n",
    "Средняя стоимость одного звонка 50 рублей (дозвонились или нет не важно), с одной заявки мы зарабатываем в среднем 180 рублей.  \n",
    "\n",
    "**Проинтерпретируйте результаты АВ теста**"
   ]
  },
  {
   "cell_type": "code",
   "execution_count": 362,
   "metadata": {},
   "outputs": [],
   "source": [
    "# импорт библиотек\n",
    "import numpy as np\n",
    "import pandas as pd\n",
    "from scipy.stats import chi2_contingency"
   ]
  },
  {
   "cell_type": "code",
   "execution_count": 363,
   "metadata": {},
   "outputs": [],
   "source": [
    "# задаем параметры групп\n",
    "gr1_opened = 600\n",
    "gr2_opened = 500\n",
    "total = 1000"
   ]
  },
  {
   "cell_type": "code",
   "execution_count": 364,
   "metadata": {},
   "outputs": [],
   "source": [
    "# моделируем группу А\n",
    "gr1_ones = np.ones(gr1_opened, dtype='int')\n",
    "gr1_zeros = np.zeros(total - gr1_opened, dtype='int')\n",
    "group1_label = ['Тест' for x in range(total)]\n",
    "group1 = np.concatenate((gr1_ones, gr1_zeros))\n",
    "np.random.shuffle(group1)"
   ]
  },
  {
   "cell_type": "code",
   "execution_count": 365,
   "metadata": {},
   "outputs": [],
   "source": [
    "# моделируем группу B\n",
    "gr2_ones = np.ones(gr2_opened, dtype='int')\n",
    "gr2_zeros = np.zeros(total-gr2_opened, dtype='int')\n",
    "group2_label = ['Контроль' for x in range(total)]\n",
    "group2 = np.concatenate((gr2_ones, gr2_zeros))\n",
    "np.random.shuffle(group2)"
   ]
  },
  {
   "cell_type": "code",
   "execution_count": 366,
   "metadata": {},
   "outputs": [],
   "source": [
    "# создаем датафрейм\n",
    "df1 = pd.DataFrame({'value': group1, 'group': group1_label})\n",
    "df2 = pd.DataFrame({'value': group2, 'group': group2_label})\n",
    "\n",
    "df = pd.concat([df1, df2], axis=0).reset_index(drop=True)"
   ]
  },
  {
   "cell_type": "code",
   "execution_count": 367,
   "metadata": {},
   "outputs": [],
   "source": [
    "# добавляем расходы и доходы\n",
    "df['expenses'] = 50\n",
    "df['revenue'] = df.value * 180\n",
    "df.loc[df['group'] == 'Контроль', ['expenses']] = 0\n",
    "df['balance'] = df.revenue - df.expenses"
   ]
  },
  {
   "cell_type": "code",
   "execution_count": 368,
   "metadata": {},
   "outputs": [],
   "source": [
    "# подсчет итоговой выручки\n",
    "rev_test = df[df['group'] == 'Тест'].balance.sum()\n",
    "rev_control = df[df['group'] == 'Контроль'].balance.sum()"
   ]
  },
  {
   "cell_type": "code",
   "execution_count": 369,
   "metadata": {
    "scrolled": true
   },
   "outputs": [
    {
     "data": {
      "text/html": [
       "<div>\n",
       "<style scoped>\n",
       "    .dataframe tbody tr th:only-of-type {\n",
       "        vertical-align: middle;\n",
       "    }\n",
       "\n",
       "    .dataframe tbody tr th {\n",
       "        vertical-align: top;\n",
       "    }\n",
       "\n",
       "    .dataframe thead th {\n",
       "        text-align: right;\n",
       "    }\n",
       "</style>\n",
       "<table border=\"1\" class=\"dataframe\">\n",
       "  <thead>\n",
       "    <tr style=\"text-align: right;\">\n",
       "      <th>value</th>\n",
       "      <th>0</th>\n",
       "      <th>1</th>\n",
       "    </tr>\n",
       "    <tr>\n",
       "      <th>group</th>\n",
       "      <th></th>\n",
       "      <th></th>\n",
       "    </tr>\n",
       "  </thead>\n",
       "  <tbody>\n",
       "    <tr>\n",
       "      <th>Контроль</th>\n",
       "      <td>500</td>\n",
       "      <td>500</td>\n",
       "    </tr>\n",
       "    <tr>\n",
       "      <th>Тест</th>\n",
       "      <td>400</td>\n",
       "      <td>600</td>\n",
       "    </tr>\n",
       "  </tbody>\n",
       "</table>\n",
       "</div>"
      ],
      "text/plain": [
       "value       0    1\n",
       "group             \n",
       "Контроль  500  500\n",
       "Тест      400  600"
      ]
     },
     "execution_count": 369,
     "metadata": {},
     "output_type": "execute_result"
    }
   ],
   "source": [
    "# перекрестная таблица\n",
    "pd.crosstab(index=df.group, columns=df.value)"
   ]
  },
  {
   "cell_type": "code",
   "execution_count": 370,
   "metadata": {},
   "outputs": [],
   "source": [
    "# воспользуемся chi square, т.к. имеем дело с дискретными данными\n",
    "stat, p, dof, expected = chi2_contingency(pd.crosstab(index=df.group, columns=df.value))"
   ]
  },
  {
   "cell_type": "code",
   "execution_count": 371,
   "metadata": {},
   "outputs": [
    {
     "name": "stdout",
     "output_type": "stream",
     "text": [
      "Удалось получить статистически значимые различия. Отклоняем нулевую гипотезу о равенстве двух групп и принимаем альтернативную.\n",
      "Однако, выручка упала. Не будем запускать изменения в прод.\n"
     ]
    }
   ],
   "source": [
    "# проводим t-test\n",
    "alpha = 0.05  # уровени значимости\n",
    "\n",
    "# вывод результата\n",
    "if p <= alpha:\n",
    "    print('Удалось получить статистически значимые различия. Отклоняем нулевую гипотезу о равенстве двух групп и принимаем альтернативную.')\n",
    "    if rev_test < rev_control:\n",
    "        print('Однако, выручка упала. Не будем запускать изменения в прод.')\n",
    "    else:\n",
    "        print('Удалось поднять выручку. Запускаем в прод.')\n",
    "else:\n",
    "    print('Не удалось выявить статистически значимые различия и отклонить нулевую гипотезу.')"
   ]
  }
 ],
 "metadata": {
  "kernelspec": {
   "display_name": "Python 3",
   "language": "python",
   "name": "python3"
  },
  "language_info": {
   "codemirror_mode": {
    "name": "ipython",
    "version": 3
   },
   "file_extension": ".py",
   "mimetype": "text/x-python",
   "name": "python",
   "nbconvert_exporter": "python",
   "pygments_lexer": "ipython3",
   "version": "3.7.6"
  }
 },
 "nbformat": 4,
 "nbformat_minor": 4
}
